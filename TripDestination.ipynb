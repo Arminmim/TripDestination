{
 "cells": [
  {
   "cell_type": "code",
   "execution_count": null,
   "metadata": {},
   "outputs": [],
   "source": [
    "start_time = time.perf_counter()\n",
    "\n",
    "def get_centermost_point(cluster):\n",
    "    centroid = (MultiPoint(cluster).centroid.x, MultiPoint(cluster).centroid.y)\n",
    "    centermost_point = min(cluster, key=lambda point: great_circle(point, centroid).m)\n",
    "    return tuple(centermost_point)\n",
    "\n",
    "kms_per_radian = 6371.0088\n",
    "epsilon = 0.5 / kms_per_radian\n",
    "\n",
    "for hh in range (1,len(lis)):\n",
    "    sample=EV[EV['vin']==lis[hh][0]]\n",
    "    \n",
    "    sample=sample.groupBy(['finishPosLat','finishPosLon']).agg(F.sum('dwell_time'), F.count('dwell_time'))\n",
    "    sample=sample.withColumnRenamed(\"sum(dwell_time)\",\"duration\")\n",
    "    sample=sample.withColumnRenamed(\"count(dwell_time)\",\"repeat\")\n",
    "    \n",
    "    df = sample.toPandas()\n",
    "    \n",
    "    coords = df[['finishPosLat','finishPosLon']].values #extracting coords to Numpy\n",
    " \n",
    "    db = DBSCAN(eps=epsilon, min_samples=1, algorithm='ball_tree', metric='haversine').fit(np.radians(coords))\n",
    "    cluster_labels = db.labels_\n",
    "    num_clusters = len(set(cluster_labels))\n",
    "    clusters = pd.Series([coords[cluster_labels == n] for n in range(num_clusters)])\n",
    "    #print('Number of clusters: {}'.format(num_clusters))\n",
    "    \n",
    "    d=[0]*num_clusters\n",
    "    f=[0]*num_clusters\n",
    "    \n",
    "    mydict={}\n",
    "    for i in range (0,len(df)):\n",
    "        mydict[(df['finishPosLat'].iloc[i],df['finishPosLon'].iloc[i])]=[df['duration'].iloc[i],df['repeat'].iloc[i]]\n",
    "    for counter,i in enumerate(clusters):\n",
    "        for j in i:\n",
    "            d[counter]+=mydict.get((j[0],j[1]))[0]\n",
    "            f[counter]+=mydict.get((j[0],j[1]))[1]\n",
    "  \n",
    "    centermost_points = clusters.map(get_centermost_point)\n",
    "    lats, lons = zip(*centermost_points)\n",
    "    rep_points = pd.DataFrame({'lat':lats,'lon':lons,'duration':d,'repeat':f})\n",
    "    rep_points['r']=rep_points['duration']*rep_points['repeat']\n",
    "    t=rep_points.sort_values(by=['r'],ascending=False).iloc[:2]\n",
    "    Destination=pd.DataFrame([[lis[hh][0],t.iloc[0]['lat'],t.iloc[0]['lon'],t.iloc[0]['duration'],t.iloc[0]['repeat'],\n",
    "               t.iloc[1]['lat'],t.iloc[1]['lon'],t.iloc[1]['duration'],t.iloc[1]['repeat']]], \n",
    "               columns=['vin','home-lat','home-lon','home-duration','home-repeat',\n",
    "                       'work-lat','work-lon','work-duration','work-repeat'])\n",
    "    #Destination=Destination.append(la, ignore_index=True)\n",
    "    Destination.to_csv(path, mode='a',index=False,header=False)\n",
    "    del sample, df, db, cluster_labels, num_clusters, mydict\n",
    "    del clusters,d,f, centermost_points, lats, lons, rep_points, t, Destination\n",
    "    gc.collect()   #release memory\n",
    "end_time = time.perf_counter()\n",
    "#print(\"returned \" + str(format(df.count(), ',')) + \" records\")\n",
    "print(\"time elapsed: \" + str(round((end_time - start_time)/60, 2)) + \" minutes\")"
   ]
  }
 ],
 "metadata": {
  "kernelspec": {
   "display_name": "Python 3",
   "language": "python",
   "name": "python3"
  },
  "language_info": {
   "codemirror_mode": {
    "name": "ipython",
    "version": 3
   },
   "file_extension": ".py",
   "mimetype": "text/x-python",
   "name": "python",
   "nbconvert_exporter": "python",
   "pygments_lexer": "ipython3",
   "version": "3.7.6"
  }
 },
 "nbformat": 4,
 "nbformat_minor": 4
}
