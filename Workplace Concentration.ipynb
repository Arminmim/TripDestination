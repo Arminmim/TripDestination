{
 "cells": [
  {
   "cell_type": "markdown",
   "metadata": {},
   "source": [
    "# Work Place Concentration"
   ]
  },
  {
   "cell_type": "code",
   "execution_count": 2,
   "metadata": {},
   "outputs": [
    {
     "data": {
      "application/vnd.jupyter.widget-view+json": {
       "model_id": "",
       "version_major": 2,
       "version_minor": 0
      },
      "text/plain": [
       "FloatProgress(value=0.0, bar_style='info', description='Progress:', layout=Layout(height='25px', width='50%'),…"
      ]
     },
     "metadata": {},
     "output_type": "display_data"
    }
   ],
   "source": [
    "from sklearn.cluster import DBSCAN\n",
    "import pandas as pd\n",
    "import numpy as np\n",
    "import gc\n",
    "import time\n",
    "import datetime\n",
    "from geopy.distance import great_circle\n",
    "from shapely.geometry import MultiPoint\n",
    "from pyspark.sql import functions as F"
   ]
  },
  {
   "cell_type": "code",
   "execution_count": 7,
   "metadata": {},
   "outputs": [
    {
     "data": {
      "application/vnd.jupyter.widget-view+json": {
       "model_id": "",
       "version_major": 2,
       "version_minor": 0
      },
      "text/plain": [
       "FloatProgress(value=0.0, bar_style='info', description='Progress:', layout=Layout(height='25px', width='50%'),…"
      ]
     },
     "metadata": {},
     "output_type": "display_data"
    },
    {
     "name": "stdout",
     "output_type": "stream",
     "text": [
      "time elapsed: 0.03 minutes"
     ]
    }
   ],
   "source": [
    "start_time = time.perf_counter()\n",
    "\n",
    "def get_centermost_point(cluster):\n",
    "    centroid = (MultiPoint(cluster).centroid.x, MultiPoint(cluster).centroid.y)\n",
    "    centermost_point = min(cluster, key=lambda point: great_circle(point, centroid).m)\n",
    "    return tuple(centermost_point)\n",
    "\n",
    "kms_per_radian = 6371.0088\n",
    "epsilon = 0.3 / kms_per_radian\n",
    "\n",
    "\n",
    "coords = work[['work-lat','work-lon']].values #extracting coords to Numpy\n",
    "\n",
    "db = DBSCAN(eps=epsilon, min_samples=1, algorithm='ball_tree', metric='haversine').fit(np.radians(coords))\n",
    "cluster_labels = db.labels_\n",
    "num_clusters = len(set(cluster_labels))\n",
    "clusters = pd.Series([coords[cluster_labels == n] for n in range(num_clusters)])\n",
    "\n",
    "d=[0]*num_clusters\n",
    "for i in range (0,len(clusters)):\n",
    "    d[i]=len(clusters[i])\n",
    "    \n",
    "    \n",
    "centermost_points = clusters.map(get_centermost_point)\n",
    "lats, lons = zip(*centermost_points)\n",
    "rep_points = pd.DataFrame({'lat':lats,'lon':lons,'count':d})\n",
    "#rep_points['r']=rep_points['duration']*rep_points['repeat']\n",
    "t=rep_points.sort_values(by=['count'],ascending=False)\n",
    "#Destination=pd.DataFrame([[VIN_List[hh][0],t.iloc[0]['lat'],t.iloc[0]['lon'],t.iloc[0]['duration'],t.iloc[0]['repeat'],\n",
    "#          t.iloc[1]['lat'],t.iloc[1]['lon'],t.iloc[1]['duration'],t.iloc[1]['repeat']]], \n",
    "#           columns=['vin','home-lat','home-lon','home-duration','home-repeat',\n",
    "#                   'work-lat','work-lon','work-duration','work-repeat'])\n",
    "#Destination=Destination.append(la, ignore_index=True)\n",
    "#Destination.to_csv(path, mode='a',index=False,header=False)\n",
    "#del sample, db, cluster_labels, num_clusters, mydict\n",
    "#del clusters,d,f, centermost_points, lats, lons, rep_points, t, Destination\n",
    "#gc.collect()   #release memory\n",
    "\n",
    "end_time = time.perf_counter()\n",
    "#print(\"returned \" + str(format(df.count(), ',')) + \" records\")\n",
    "print(\"time elapsed: \" + str(round((end_time - start_time)/60, 2)) + \" minutes\")"
   ]
  }
 ],
 "metadata": {
  "kernelspec": {
   "display_name": "PySpark",
   "language": "",
   "name": "pysparkkernel"
  },
  "language_info": {
   "codemirror_mode": {
    "name": "python",
    "version": 2
   },
   "mimetype": "text/x-python",
   "name": "pyspark",
   "pygments_lexer": "python2"
  }
 },
 "nbformat": 4,
 "nbformat_minor": 2
}
